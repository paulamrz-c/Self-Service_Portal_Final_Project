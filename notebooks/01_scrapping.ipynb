{
 "cells": [
  {
   "cell_type": "code",
   "execution_count": 1,
   "id": "913fc7f8",
   "metadata": {},
   "outputs": [
    {
     "name": "stdout",
     "output_type": "stream",
     "text": [
      "✅ Chrome is ready and the page was saved. You can now run the scraping code.\n"
     ]
    }
   ],
   "source": [
    "from selenium import webdriver\n",
    "from selenium.webdriver.chrome.options import Options\n",
    "import time\n",
    "\n",
    "# Set up Chrome options\n",
    "options = Options()\n",
    "\n",
    "# Run in visible mode (DO NOT use headless so you can log in manually)\n",
    "# options.add_argument(\"--headless\")  # ❌ Do NOT use this\n",
    "\n",
    "# Launch Chrome browser\n",
    "driver = webdriver.Chrome(options=options)\n",
    "\n",
    "# Go to the student resources search page\n",
    "url = \"https://successportal.conestogac.on.ca/students/resources/search/\"\n",
    "driver.get(url)\n",
    "\n",
    "# Pause and wait for the user to log in manually\n",
    "input(\"🟡 Please log in manually in the Chrome window, then press [Enter] here when the resources are visible...\")\n",
    "\n",
    "# OPTIONAL: Save the page HTML after login (for inspection/debugging)\n",
    "with open(\"debug_after_login_chrome.html\", \"w\", encoding=\"utf-8\") as f:\n",
    "    f.write(driver.page_source)\n",
    "\n",
    "print(\"✅ Chrome is ready and the page was saved. You can now run the scraping code.\")\n"
   ]
  },
  {
   "cell_type": "code",
   "execution_count": null,
   "id": "c0a9f331",
   "metadata": {},
   "outputs": [
    {
     "name": "stdout",
     "output_type": "stream",
     "text": [
      "✅ 428 resources saved to 'student_resources_index.csv'\n"
     ]
    }
   ],
   "source": [
    "import pandas as pd\n",
    "from selenium.webdriver.common.by import By\n",
    "\n",
    "resources = []\n",
    "\n",
    "# Select all visible resource cards on the page\n",
    "cards = driver.find_elements(By.CSS_SELECTOR, \".list-group-item.resource-list-item\")\n",
    "\n",
    "for card in cards:\n",
    "    try:\n",
    "        # Get the title and link from the <a> element inside <h4>\n",
    "        title_elem = card.find_element(By.CSS_SELECTOR, \"h4 a\")\n",
    "        title = title_elem.text.strip()\n",
    "        link = title_elem.get_attribute(\"href\").strip()\n",
    "\n",
    "        # Try to get the description, if available\n",
    "        try:\n",
    "            description = card.find_element(By.CSS_SELECTOR, \"p\").text.strip()\n",
    "        except:\n",
    "            description = \"\"\n",
    "\n",
    "        # Store the extracted data in a list of dictionaries\n",
    "        resources.append({\n",
    "            \"Title\": title,\n",
    "            \"Link\": link,\n",
    "            \"Description\": description\n",
    "        })\n",
    "\n",
    "    except Exception as e:\n",
    "        print(\"❌ Error while processing a resource:\", e)\n",
    "        continue\n",
    "\n",
    "# Save results to CSV\n",
    "df = pd.DataFrame(resources)\n",
    "df.to_csv(\"./data/raw/student_resources_index.csv\", index=False, encoding=\"utf-8\")\n",
    "\n",
    "print(f\"✅ {len(df)} resources saved to 'student_resources_index.csv'\")\n"
   ]
  }
 ],
 "metadata": {
  "kernelspec": {
   "display_name": "venv",
   "language": "python",
   "name": "python3"
  },
  "language_info": {
   "codemirror_mode": {
    "name": "ipython",
    "version": 3
   },
   "file_extension": ".py",
   "mimetype": "text/x-python",
   "name": "python",
   "nbconvert_exporter": "python",
   "pygments_lexer": "ipython3",
   "version": "3.12.2"
  }
 },
 "nbformat": 4,
 "nbformat_minor": 5
}
